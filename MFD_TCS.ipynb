{
 "cells": [
  {
   "cell_type": "code",
   "execution_count": null,
   "metadata": {},
   "outputs": [],
   "source": [
    "import matplotlib.pyplot as plt\n",
    "import numpy as np\n",
    "import pandas as pd\n",
    "import time\n",
    "import warnings\n",
    "warnings.filterwarnings(\"ignore\")\n",
    "from numba import njit, prange"
   ]
  },
  {
   "cell_type": "markdown",
   "metadata": {},
   "source": [
    "## Function definition"
   ]
  },
  {
   "cell_type": "code",
   "execution_count": null,
   "metadata": {},
   "outputs": [],
   "source": [
    "# Speed function\n",
    "def V(x): \n",
    "    if isinstance(x,list):\n",
    "        return [np.square(1-i/4500)*9.78 for i in x]\n",
    "    else:\n",
    "        return np.square(1-x/4500)*9.78\n",
    "\n",
    "# Event-based simulation, reffering to Algorithm 1 in the paper\n",
    "def within_day_process(Departure_time,trip_len,Number_of_user,k):\n",
    "    Arrival_time=Departure_time+trip_len/9.78/60\n",
    "    Event_list1=pd.DataFrame()\n",
    "    Event_list1['time(min)']=np.array(Departure_time)\n",
    "    Event_list1['event']=np.array(['departure']*Number_of_user)\n",
    "    Event_list1['trip_len(m)']=trip_len\n",
    "    Event_list2=pd.DataFrame()\n",
    "    Event_list2['time(min)']=np.array(Arrival_time)\n",
    "    Event_list2['event']=np.array(['arrival']*Number_of_user)\n",
    "    Event_list2['trip_len(m)']=trip_len\n",
    "    Event_list = pd.concat([Event_list1,Event_list2])\n",
    "    S_Event_list=Event_list.sort_values(by = ['time(min)'],ascending = True)\n",
    "    S_Event_list['veh_index'] = S_Event_list.index\n",
    "    n=0 # Number of vehicle (accumulation)\n",
    "    j=0 # index of event\n",
    "    vehicle_information=pd.DataFrame({'vehicle':range(Number_of_user),'trip_len(m)':trip_len,'t_exp':np.zeros(Number_of_user)\\\n",
    "                                     ,'account':np.zeros(Number_of_user)})\n",
    "    t=[] # event time\n",
    "    t.append(S_Event_list['time(min)'].iloc[0]) #initial time\n",
    "    vehicle_index=[]\n",
    "    Accumulation=[]\n",
    "    Speed=[]\n",
    "    vehicle_information['account']=I-custgauss(Departure_time,**params)*Event_list1['trip_len(m)']*k\n",
    "    while S_Event_list.empty==False:\n",
    "        j=j+1\n",
    "        t.append(S_Event_list['time(min)'].iloc[0])\n",
    "        if S_Event_list['event'].iloc[0]=='departure':     \n",
    "            vehicle_index.append(S_Event_list[(S_Event_list['time(min)']==t[j])].index.values[0])\n",
    "\n",
    "            trip_len1=vehicle_information['trip_len(m)'].to_numpy()\n",
    "            trip_len1[vehicle_index[0:-1]]=trip_len1[vehicle_index[0:-1]]-V(n)*60*(t[j]-t[j-1])\n",
    "            vehicle_information['trip_len(m)']=trip_len1\n",
    "\n",
    "            n=n+1\n",
    "            Accumulation.append(n)\n",
    "            vehicle_information.loc[vehicle_index[-1],'t_ins']=trip_len1[vehicle_index[-1]]/V(n)/60\n",
    "            \n",
    "\n",
    "            S_Event_list.loc[(S_Event_list['event']=='arrival') & (S_Event_list['veh_index'].isin(vehicle_index[0:-1])),'time(min)']=\\\n",
    "            t[j]+vehicle_information.loc[vehicle_index[0:-1],'trip_len(m)']/V(n)/60\n",
    "\n",
    "            S_Event_list.loc[(S_Event_list['event']=='arrival') & (S_Event_list['veh_index'].isin(list(set(S_Event_list['veh_index'].values).difference(set(vehicle_index[0:-1]))))),'time(min)']=\\\n",
    "            Event_list1['time(min)'].values[list(set(S_Event_list['veh_index'].values).difference(set(vehicle_index[0:-1])))]+\\\n",
    "            vehicle_information.loc[list(set(S_Event_list['veh_index'].values).difference(set(vehicle_index[0:-1]))),'trip_len(m)']/V(n)/60\n",
    "\n",
    "        else:\n",
    "            trip_len1=vehicle_information['trip_len(m)'].values\n",
    "            trip_len1[vehicle_index]=trip_len1[vehicle_index]-V(n)*60*(t[j]-t[j-1])\n",
    "            vehicle_information['trip_len(m)']=trip_len1\n",
    "\n",
    "            n=n-1\n",
    "            Accumulation.append(n)\n",
    "\n",
    "            vehicle_information.at[S_Event_list['veh_index'].iloc[0],'t_exp']=\\\n",
    "            S_Event_list.at[S_Event_list['veh_index'].iloc[0],'time(min)']-\\\n",
    "            Departure_time[S_Event_list['veh_index'].iloc[0]]\n",
    "    #         Event_list1.loc[S_Event_list['veh_index'].iloc[0],'time(min)']\n",
    "\n",
    "            vehicle_index.remove(S_Event_list[0:1].index.values[0])\n",
    "        \n",
    "            S_Event_list.loc[(S_Event_list['event']=='arrival') & (S_Event_list['veh_index'].isin(vehicle_index)),'time(min)']=\\\n",
    "            t[j]+vehicle_information.loc[vehicle_index,'trip_len(m)']/V(n)/60\n",
    "\n",
    "            S_Event_list.loc[(S_Event_list['event']=='arrival') & (S_Event_list['veh_index'].isin(list(set(range(Number_of_user)).difference(set(vehicle_index))))),'time(min)']=\\\n",
    "            Event_list1.loc[list(set(range(Number_of_user)).difference(set(vehicle_index)))]['time(min)']+\\\n",
    "            vehicle_information.loc[list(set(range(Number_of_user)).difference(set(vehicle_index))),'trip_len(m)']/V(n)/60\n",
    "\n",
    "        S_Event_list = S_Event_list.iloc[1:]    \n",
    "        S_Event_list=S_Event_list.sort_values(by = ['time(min)'],ascending = True)\n",
    "        Speed.append(V(n))\n",
    "    vehicle_information['t_dep']=Event_list1['time(min)']\n",
    "    vehicle_information['t_arr']=vehicle_information['t_dep']+vehicle_information['t_exp']\n",
    "    time_list=pd.concat([vehicle_information['t_dep'],vehicle_information['t_arr']])\n",
    "    time_list=time_list.sort_values(ascending = True)\n",
    "    return vehicle_information, time_list, Accumulation, Speed\n",
    "\n",
    "\n",
    "def rearrange(df, cols):\n",
    "    \n",
    "    all_values=[]\n",
    "    for idx,i in enumerate(cols):\n",
    "        \n",
    "        vals=df[i].T[idx].values\n",
    "        all_values.append(vals)\n",
    "    \n",
    "    if len(cols[0])>1:\n",
    "        return pd.DataFrame(data=np.vstack(all_values),columns=('t'+str(i) for i in range(2*tao+1)))\n",
    "    else:\n",
    "        return pd.DataFrame(data=np.vstack(all_values))\n",
    "    \n",
    "\n",
    "def schedule_delay(T_diff):\n",
    "    SD=np.empty((Number_of_user,2*tao+1))\n",
    "    for i in range(2*tao+1):\n",
    "        SD[:,i]=L*T_diff[:,i]*(1-np.array(T_diff[:,i]<0).astype(int))-\\\n",
    "        E*T_diff[:,i]*np.array(T_diff[:,i]<0).astype(int)\n",
    "    return SD\n",
    "\n",
    "@njit\n",
    "def column_generate(time_slot,case='all'):\n",
    "    columns=[]\n",
    "    if case=='all':\n",
    "        for i in range(Number_of_user):\n",
    "            columns.append([j for j in range(np.sum(time_slot[i]<Departure_time[i])-tao,\\\n",
    "                                                      np.sum(time_slot[i]<Departure_time[i])+tao+1)])\n",
    "    elif case=='chosen':\n",
    "        for i in range(Number_of_user):\n",
    "            columns.append([np.sum(time_slot[i]<Departure_time[i])])\n",
    "    return columns\n",
    "\n",
    "\n",
    "@njit\n",
    "def V1(x):\n",
    "    return np.square(1-x/4500)*9.78\n",
    "\n",
    "\n",
    "# travel time experienced by fictional users\n",
    "@njit\n",
    "def fic_tt(user, time_point, all_time_matrix, new_timelist, trip_len, Accumulation,Number_of_user):\n",
    "    star_time=all_time_matrix[user,time_point]\n",
    "    known_list=new_timelist[new_timelist>star_time]\n",
    "    if len(known_list)==0: # depart after all real travelers leave\n",
    "        texp=trip_len[user]/9.78/60\n",
    "    elif len(known_list)==Number_of_user*2: # depart before all real travelers start\n",
    "        texp=0\n",
    "        count=0\n",
    "        left_len=trip_len[user]-9.78*60*(known_list[0]-star_time)\n",
    "        if left_len<0:\n",
    "            texp=trip_len[user]/9.78/60\n",
    "        else:\n",
    "            V_list=np.array([V1(x) for x in Accumulation[Number_of_user*2-len(known_list):-1]])\n",
    "            len_piece=np.diff(known_list)*V_list*60\n",
    "            cum_len=np.cumsum(len_piece)\n",
    "            count=np.sum(cum_len<left_len)\n",
    "            texp=known_list[count+1]-star_time+(left_len-cum_len[count])/V1(Accumulation[count])/60\n",
    "    else:\n",
    "        texp=0\n",
    "        count=0\n",
    "        left_len=trip_len[user]-V1(Accumulation[Number_of_user*2-len(known_list)-1])*(known_list[0]-star_time)*60\n",
    "        if left_len<0:\n",
    "            texp=trip_len[user]/V1(Accumulation[Number_of_user*2-len(known_list)-1])/60\n",
    "        else:\n",
    "            V_list=np.array([V1(x) for x in Accumulation[Number_of_user*2-len(known_list):-1]])\n",
    "            len_piece=np.diff(known_list)*V_list*60\n",
    "            cum_len=np.cumsum(len_piece)\n",
    "            count=np.sum(cum_len<left_len)\n",
    "            if count==len(cum_len):\n",
    "                texp=known_list[count]-star_time+(left_len-cum_len[count-1])/9.78/60\n",
    "            else:\n",
    "                texp=known_list[count+1]-star_time+(left_len-cum_len[count])/V1(Accumulation[Number_of_user*2-len(known_list)+count])/60\n",
    "    return texp\n",
    "\n",
    "\n",
    "@njit(parallel=True)\n",
    "def T_est(all_time_matrix, new_timelist, trip_len, Accumulation, Number_of_user, tao):\n",
    "    T_estimate_array=np.zeros((Number_of_user,2*tao+1))\n",
    "    for i in prange(Number_of_user):\n",
    "        for j in prange(2*tao+1):\n",
    "            T_estimate_array[i,j]=fic_tt(i, j, all_time_matrix, new_timelist, trip_len, Accumulation,Number_of_user)\n",
    "    return T_estimate_array"
   ]
  },
  {
   "cell_type": "markdown",
   "metadata": {},
   "source": [
    "## Parameter settings"
   ]
  },
  {
   "cell_type": "code",
   "execution_count": null,
   "metadata": {},
   "outputs": [],
   "source": [
    "np.random.seed(seed=59)\n",
    "tao=30 # number of time intervals\n",
    "Number_of_user=3000\n",
    "Departure_time=np.random.normal(80,18,Number_of_user)\n",
    "for i in range(len(Departure_time)):\n",
    "    if Departure_time[i]<20 or Departure_time[i]>150:\n",
    "        Departure_time[i]=np.random.normal(80,18,1)\n",
    "plt.hist(Departure_time,bins=20)"
   ]
  },
  {
   "cell_type": "code",
   "execution_count": null,
   "metadata": {},
   "outputs": [],
   "source": [
    "trip_len=np.array(np.zeros(Number_of_user))\n",
    "E=np.array(np.zeros(Number_of_user)) # schedule delay early penalty\n",
    "L=np.array(np.zeros(Number_of_user)) # schedule delay late penalty\n",
    "\n",
    "for i in range(Number_of_user):\n",
    "    trip_len[i]=4600+np.random.normal(0,(0.02*4600)**2)\n",
    "    while trip_len[i]<20:\n",
    "        trip_len[i]=4600+np.random.normal(0,(0.02*4600)**2)\n",
    "        \n",
    "Wished_Arrival_time=Departure_time+trip_len/9.78/60 # wished arrival time\n",
    "\n",
    "for i in range(Number_of_user):\n",
    "    E[i]=0.5+np.random.normal(0.05**2,0.1**2)\n",
    "    L[i]=4+np.random.normal(0.1**2,0.4**2)\n",
    "    while E[i]<0.3 or E[i]>0.7:\n",
    "        E[i]=0.5+np.random.normal(0.05**2,0.1**2)\n",
    "    while L[i]<2.5 or L[i]>5.5:\n",
    "        L[i]=4+np.random.normal(0.1**2,0.4**2)\n",
    "        \n",
    "Dep_time_set=pd.DataFrame()\n",
    "for i in range(2*tao+1):\n",
    "    Dep_time_set['t'+str(i)]=Departure_time-tao+i"
   ]
  },
  {
   "cell_type": "code",
   "execution_count": null,
   "metadata": {},
   "outputs": [],
   "source": [
    "I=5 #initial endowment for every traveller everyday\n",
    "params={'A': 11,\n",
    "  'mu': 80,\n",
    "  'sigma': 18}\n",
    "x=np.linspace(-10,130,500)\n",
    "\n",
    "# toll profile\n",
    "def custgauss(x,mu,sigma,A):\n",
    "    return A*np.exp(-(x-mu)**2/2/sigma**2)\n",
    "toll_profile=custgauss(x,**params)"
   ]
  },
  {
   "cell_type": "code",
   "execution_count": null,
   "metadata": {},
   "outputs": [],
   "source": [
    "Sim_day=50\n",
    "omega=0.7\n",
    "norm_list=[]\n",
    "Acc_df=pd.DataFrame()\n",
    "time_label=pd.DataFrame()\n",
    "all_time_slot=pd.DataFrame()\n",
    "cost_list=[]\n",
    "cs_list=[]\n",
    "price=np.ones(1)*0 # initial price as 0\n",
    "b=0.0002 #price adjustment parameter \n",
    "alpha=1.1 # value of time\n",
    "k=0.0002 # trip length scale factor\n",
    "account_state=[]\n",
    "tt=[]\n",
    "Eachday_dep=pd.DataFrame()\n",
    "Eachday_dep['d0']=Departure_time\n",
    "\n",
    "for i in range(2*tao+1):\n",
    "    all_time_slot['t'+str(i)]=Departure_time-tao+i\n",
    "\n",
    "acco=[]\n",
    "all_time_matrix=np.array(all_time_slot)\n",
    "utility={}\n",
    "\n",
    "# choose a case to simulate\n",
    "Base_Case=False\n",
    "TCS_Case=True\n",
    "CP_Case=False"
   ]
  },
  {
   "cell_type": "markdown",
   "metadata": {},
   "source": [
    "## Main simulation"
   ]
  },
  {
   "cell_type": "code",
   "execution_count": null,
   "metadata": {},
   "outputs": [],
   "source": [
    "for d in range(Sim_day):\n",
    "    start=time.time()\n",
    "    vehicle_information, time_list, Accumulation, Speed=within_day_process(Departure_time,trip_len,Number_of_user)\n",
    "\n",
    "    Acc_df['d'+str(d)]=Accumulation\n",
    "    time_label['d'+str(d)]=time_list.tolist()\n",
    "    vehicle_information['origin_tl']=trip_len\n",
    "\n",
    "    account_state.append(vehicle_information['account'])\n",
    "    tt.append(vehicle_information['t_exp'])\n",
    "    \n",
    "    new_timelist=np.array(time_list)\n",
    "    \n",
    "    T_estimate=T_est(all_time_matrix, new_timelist, trip_len, Accumulation, Number_of_user, tao)\n",
    "    T_estimated=pd.DataFrame(T_estimate,columns=('t'+str(i) for i in range(2*tao+1)))\n",
    "\n",
    "    T_estimated_diff=pd.DataFrame()\n",
    "    for j in range(2*tao+1):\n",
    "        T_estimated_diff['t'+str(j)]=T_estimated['t'+str(j)]+all_time_slot['t'+str(j)]-Wished_Arrival_time\n",
    "\n",
    "    c_estimated=pd.DataFrame(columns=('t'+str(i) for i in range(2*tao+1)))\n",
    "    c_cs=pd.DataFrame(columns=('t'+str(i) for i in range(2*tao+1)))\n",
    "    T_diff=np.array(T_estimated_diff)\n",
    "    SD=schedule_delay(T_diff)\n",
    "    for j in range(2*tao+1):\n",
    "        c_estimated['t'+str(j)]=alpha*(T_estimated['t'+str(j)]+SD[:,j])+\\\n",
    "        price[d]*custgauss(all_time_slot['t'+str(j)],**params)*np.array(vehicle_information['origin_tl'])*0.0002\n",
    "\n",
    "        c_cs['t'+str(j)]=alpha*(T_estimated['t'+str(j)]+SD[:,j])\n",
    "\n",
    "    if d==0:\n",
    "        c_perceived=c_estimated\n",
    "    else:\n",
    "        c_perceived=omega*c_perceived+(1-omega)*c_estimated\n",
    "    norm_list.append(np.linalg.norm(c_perceived-c_estimated,ord=1)/Number_of_user)\n",
    "    theta=5*10**(-1) #scale parameter\n",
    "\n",
    "    acco.append(sum(account_state[d]))\n",
    "    if Base_Case:\n",
    "        price=np.append(price,0)\n",
    "    elif TCS_Case:\n",
    "        price=np.append(price,max(price[d]-b*acco[d],0))\n",
    "    elif CP_Case:\n",
    "        price=np.append(price,1)\n",
    "    \n",
    "    window_c_perceived=c_perceived\n",
    "    \n",
    "    columns1=[]\n",
    "    for i in range(Number_of_user):\n",
    "        columns1.append(['t'+str(np.sum(all_time_slot.iloc[i].values<Departure_time[i]))])\n",
    "    window_c_exp=rearrange(df=c_estimated,cols=columns1)\n",
    "    window_cs=rearrange(df=c_cs,cols=columns1)\n",
    "\n",
    "    cost_list.append(window_c_exp.sum()) # generalized cost: tt cost + sd cost + credit payment (or pricing payment)\n",
    "    cs_list.append(window_cs.sum()) # travel cost: tt cost + sd cost\n",
    "    \n",
    "    util_rand = np.random.gumbel(-0.57721 / theta, 1.0 / theta, (Number_of_user,2*tao+1))\n",
    "    utility_exp=-window_c_perceived+util_rand\n",
    "    Departure_time=np.diag(Dep_time_set[utility_exp.idxmax(axis=1)])\n",
    "    utility['d'+str(d)]=np.diag(utility_exp[utility_exp.idxmax(axis=1)])+np.diag(window_c_perceived[utility_exp.idxmax(axis=1)])\n",
    "    \n",
    "    Eachday_dep['d'+str(d+1)]=Departure_time\n",
    "    end = time.time()\n",
    "    print('day',d,':',end-start,cost_list[d][0],cs_list[d][0],price[d])"
   ]
  },
  {
   "cell_type": "markdown",
   "metadata": {},
   "source": [
    "## Output"
   ]
  },
  {
   "cell_type": "markdown",
   "metadata": {},
   "source": [
    "### Computation of generalized cost, travel cost, consumer surplus, social welfare and random utility"
   ]
  },
  {
   "cell_type": "code",
   "execution_count": null,
   "metadata": {},
   "outputs": [],
   "source": [
    "gc=np.zeros(Sim_day) # generalized cost\n",
    "tc=np.zeros(Sim_day) # travel cost\n",
    "for i in range(Sim_day):\n",
    "    gc[i]=cost_list[i][0]\n",
    "    tc[i]=cs_list[i][0]\n",
    "    \n",
    "csu=np.zeros(Sim_day) # consumer surplus\n",
    "sw=np.zeros(Sim_day) # social welfare\n",
    "ru=np.zeros(Sim_day) # random utility\n",
    "for i in range(Sim_day):\n",
    "    csu[i]=-gc[i]+np.sum(utility['d'+str(i)])\n",
    "    ru[i]=np.sum(utility['d'+str(i)])\n",
    "    sw[i]=-tc[i]+np.sum(utility['d'+str(i)])\n",
    "    \n",
    "ttt=np.zeros(Sim_day) # travel time\n",
    "for i in range(Sim_day):\n",
    "    ttt[i]=sum(tt[i])"
   ]
  },
  {
   "cell_type": "markdown",
   "metadata": {},
   "source": [
    "### Number of bought and sold credits"
   ]
  },
  {
   "cell_type": "code",
   "execution_count": null,
   "metadata": {},
   "outputs": [],
   "source": [
    "buy=[]\n",
    "sell=[]\n",
    "for i in range(Sim_day):\n",
    "    buy.append(-sum(account_state[i][account_state[i]<=0]))\n",
    "    sell.append(sum(account_state[i][account_state[i]>0]))"
   ]
  },
  {
   "cell_type": "markdown",
   "metadata": {},
   "source": [
    "### Visualization"
   ]
  },
  {
   "cell_type": "markdown",
   "metadata": {},
   "source": [
    "#### Evolution of inconsistency"
   ]
  },
  {
   "cell_type": "code",
   "execution_count": null,
   "metadata": {},
   "outputs": [],
   "source": [
    "plt.plot(range(1,Sim_day),norm_list[1:],color='red')\n",
    "plt.xlabel('Days')\n",
    "plt.ylabel('$|C_d-c_d|_1$/$N$ [DKK]')"
   ]
  },
  {
   "cell_type": "markdown",
   "metadata": {},
   "source": [
    "#### Evolution of consumer surplus"
   ]
  },
  {
   "cell_type": "code",
   "execution_count": null,
   "metadata": {},
   "outputs": [],
   "source": [
    "plt.plot(range(1,Sim_day),csu[1:]/Number_of_user,color='red')\n",
    "ax2.set_xlabel('Days')\n",
    "ax2.set_ylabel('Average consumer surplus [DKK]')"
   ]
  },
  {
   "cell_type": "markdown",
   "metadata": {},
   "source": [
    "#### Evolution of social welfare"
   ]
  },
  {
   "cell_type": "code",
   "execution_count": null,
   "metadata": {},
   "outputs": [],
   "source": [
    "plt.plot(range(1,Sim_day),sw[1:]/Number_of_user,color='red')\n",
    "plt.xlabel('Day')\n",
    "plt.ylabel('$W_{TCS}$ [DKK]')"
   ]
  },
  {
   "cell_type": "markdown",
   "metadata": {},
   "source": [
    "#### Evolution of accumulation"
   ]
  },
  {
   "cell_type": "code",
   "execution_count": null,
   "metadata": {},
   "outputs": [],
   "source": [
    "x=np.linspace(0,180,500) # ploting scale\n",
    "toll_profile=custgauss(x,**params)\n",
    "fig, ax1 = plt.subplots()\n",
    "ax2 = ax1.twinx()\n",
    "# a4,=ax2.plot(x,toll_profile,linestyle='--',color='gray') # uncommented when ploting the toll profile together\n",
    "a1,=ax1.plot(time_label['d0'],Acc_df['d0'], color='red')\n",
    "# a2,=ax1.plot(time_label['d10'],Acc_df['d10'], color='orange') # uncommented when ploting accumulation curve of another day\n",
    "a3,=ax1.plot(time_label['d35'],Acc_df['d35'], color='green')\n",
    "a5,=ax1.plot(time_label['d49'],Acc_df['d49'], color='blue')\n",
    "\n",
    "# plt.legend([a1,a3,a5,a4], ['day 0','day 35','day 49','Toll profile'])\n",
    "plt.legend([a1,a3,a5,a4], ['day 0','day 35','day 49'])\n",
    "ax1.set_xlabel('Time [min]')\n",
    "ax1.set_ylabel('Accumulation [traveler]')\n",
    "# ax2.set_ylabel('Credit charge',color='gray')"
   ]
  },
  {
   "cell_type": "markdown",
   "metadata": {},
   "source": [
    "#### Evolution of buying and selling"
   ]
  },
  {
   "cell_type": "code",
   "execution_count": null,
   "metadata": {},
   "outputs": [],
   "source": [
    "plt.plot(range(Sim_day),buy[0:Sim_day],color='red')\n",
    "plt.plot(range(Sim_day),sell[0:Sim_day],color='green')\n",
    "plt.xlabel('Days')\n",
    "plt.ylabel('Number of credits')\n",
    "plt.ticklabel_format(axis=\"y\", style=\"sci\", scilimits=(0,0))\n",
    "plt.legend(['Number of bought credits','Number of sold credits']) "
   ]
  },
  {
   "cell_type": "markdown",
   "metadata": {},
   "source": [
    "#### Evolution of credit price"
   ]
  },
  {
   "cell_type": "code",
   "execution_count": null,
   "metadata": {},
   "outputs": [],
   "source": [
    "plt.plot(range(Sim_day+1),price,color='red')\n",
    "plt.xlabel('Days')\n",
    "plt.ylabel('Credit price [DKK]')"
   ]
  }
 ],
 "metadata": {
  "kernelspec": {
   "display_name": "Python 3",
   "language": "python",
   "name": "python3"
  },
  "language_info": {
   "codemirror_mode": {
    "name": "ipython",
    "version": 3
   },
   "file_extension": ".py",
   "mimetype": "text/x-python",
   "name": "python",
   "nbconvert_exporter": "python",
   "pygments_lexer": "ipython3",
   "version": "3.7.4"
  }
 },
 "nbformat": 4,
 "nbformat_minor": 2
}
