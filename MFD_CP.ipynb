{
 "cells": [
  {
   "cell_type": "code",
   "execution_count": 1,
   "metadata": {},
   "outputs": [],
   "source": [
    "import matplotlib.pyplot as plt\n",
    "import numpy as np\n",
    "import pandas as pd\n",
    "import time\n",
    "import warnings\n",
    "warnings.filterwarnings(\"ignore\")\n",
    "from numba import njit, prange"
   ]
  },
  {
   "cell_type": "markdown",
   "metadata": {},
   "source": [
    "## Function definition"
   ]
  },
  {
   "cell_type": "code",
   "execution_count": 2,
   "metadata": {},
   "outputs": [],
   "source": [
    "# Speed function\n",
    "def V(x): \n",
    "    if isinstance(x,list):\n",
    "        return [np.square(1-i/4500)*9.78 for i in x]\n",
    "    else:\n",
    "        return np.square(1-x/4500)*9.78\n",
    "\n",
    "# Event-based simulation, reffering to Algorithm 1 in the paper\n",
    "def within_day_process(Departure_time,trip_len,Number_of_user):\n",
    "    # Step 1\n",
    "    n=0 # Number of vehicle (accumulation)\n",
    "    j=0 # index of event\n",
    "    t=[] # event time\n",
    "    vehicle_index=[]\n",
    "    Accumulation=[]\n",
    "    Speed=[]\n",
    "    \n",
    "    # Predicted arrival time\n",
    "    Arrival_time=Departure_time+trip_len/9.78/60\n",
    "    \n",
    "    # Step 2\n",
    "    # Define event list of departures\n",
    "    Event_list1=pd.DataFrame()\n",
    "    Event_list1['time(min)']=np.array(Departure_time)\n",
    "    Event_list1['event']=np.array(['departure']*Number_of_user)\n",
    "    Event_list1['trip_len(m)']=trip_len\n",
    "    \n",
    "    # Define event list of arrivals\n",
    "    Event_list2=pd.DataFrame()\n",
    "    Event_list2['time(min)']=np.array(Arrival_time)\n",
    "    Event_list2['event']=np.array(['arrival']*Number_of_user)\n",
    "    Event_list2['trip_len(m)']=trip_len\n",
    "    \n",
    "    # Concatenate these two event lists\n",
    "    Event_list = pd.concat([Event_list1,Event_list2])\n",
    "    \n",
    "    # Sort the list by time in ascending order\n",
    "    S_Event_list=Event_list.sort_values(by = ['time(min)'],ascending = True)\n",
    "    S_Event_list['veh_index'] = S_Event_list.index\n",
    "    \n",
    "    # get time of the first event\n",
    "    t.append(S_Event_list['time(min)'].iloc[0]) #initial time\n",
    "    \n",
    "    # create a dataframe to store the information of each agent\n",
    "    vehicle_information=pd.DataFrame({'vehicle':range(Number_of_user),'trip_len(m)':trip_len,'t_exp':np.zeros(Number_of_user)})\n",
    "    \n",
    "    #Step 3\n",
    "    # Event-based simulation\n",
    "    while S_Event_list.empty==False:\n",
    "        j=j+1\n",
    "        t.append(S_Event_list['time(min)'].iloc[0]) # record the time of the event\n",
    "        if S_Event_list['event'].iloc[0]=='departure':     \n",
    "            vehicle_index.append(S_Event_list[(S_Event_list['time(min)']==t[j])].index.values[0]) # record the agent that starts the trip\n",
    "\n",
    "            # update the untraveled trip length\n",
    "            trip_len1=vehicle_information['trip_len(m)'].to_numpy()\n",
    "            trip_len1[vehicle_index[0:-1]]=trip_len1[vehicle_index[0:-1]]-V(n)*60*(t[j]-t[j-1])\n",
    "            vehicle_information['trip_len(m)']=trip_len1\n",
    "\n",
    "            # update the accumulation in the network\n",
    "            n=n+1\n",
    "            \n",
    "            # keep track of the accumulation\n",
    "            Accumulation.append(n)\n",
    "            \n",
    "            # update the predicted arrival time\n",
    "            S_Event_list.loc[(S_Event_list['event']=='arrival') & (S_Event_list['veh_index'].isin(vehicle_index[0:-1])),'time(min)']=\\\n",
    "            t[j]+vehicle_information.loc[vehicle_index[0:-1],'trip_len(m)']/V(n)/60\n",
    "\n",
    "        else: #arrival\n",
    "            # update the trip length\n",
    "            trip_len1=vehicle_information['trip_len(m)'].values\n",
    "            trip_len1[vehicle_index]=trip_len1[vehicle_index]-V(n)*60*(t[j]-t[j-1])\n",
    "            vehicle_information['trip_len(m)']=trip_len1\n",
    "\n",
    "            # update the accumulation in the network\n",
    "            n=n-1\n",
    "            \n",
    "            # keep track of the accumulation\n",
    "            Accumulation.append(n)\n",
    "\n",
    "            # update t_exp\n",
    "            vehicle_information.at[S_Event_list['veh_index'].iloc[0],'t_exp']=\\\n",
    "            S_Event_list.at[S_Event_list['veh_index'].iloc[0],'time(min)']-\\\n",
    "            Departure_time[S_Event_list['veh_index'].iloc[0]]\n",
    "\n",
    "            # remove the agent that finishes the trip\n",
    "            vehicle_index.remove(S_Event_list[0:1].index.values[0])\n",
    "        \n",
    "            # Update the predicted arrival time\n",
    "            S_Event_list.loc[(S_Event_list['event']=='arrival') & (S_Event_list['veh_index'].isin(vehicle_index)),'time(min)']=\\\n",
    "            t[j]+vehicle_information.loc[vehicle_index,'trip_len(m)']/V(n)/60\n",
    "\n",
    "        # remove event from the list\n",
    "        S_Event_list = S_Event_list.iloc[1:]    \n",
    "        S_Event_list=S_Event_list.sort_values(by = ['time(min)'],ascending = True)\n",
    "        # update speed with Speed.function\n",
    "        Speed.append(V(n))\n",
    "    vehicle_information['t_dep']=Event_list1['time(min)']\n",
    "    vehicle_information['t_arr']=vehicle_information['t_dep']+vehicle_information['t_exp']\n",
    "    time_list=pd.concat([vehicle_information['t_dep'],vehicle_information['t_arr']])\n",
    "    time_list=time_list.sort_values(ascending = True)\n",
    "    return vehicle_information, time_list, Accumulation, Speed\n",
    "\n",
    "\n",
    "def rearrange(df, cols):\n",
    "    \n",
    "    all_values=[]\n",
    "    for idx,i in enumerate(cols):\n",
    "        \n",
    "        vals=df[i].T[idx].values\n",
    "        all_values.append(vals)\n",
    "    \n",
    "    if len(cols[0])>1:\n",
    "        return pd.DataFrame(data=np.vstack(all_values),columns=('t'+str(i) for i in range(2*tao+1)))\n",
    "    else:\n",
    "        return pd.DataFrame(data=np.vstack(all_values))\n",
    "    \n",
    "\n",
    "def schedule_delay(T_diff):\n",
    "    SD=np.empty((Number_of_user,2*tao+1))\n",
    "    for i in range(2*tao+1):\n",
    "        SD[:,i]=L*T_diff[:,i]*(1-np.array(T_diff[:,i]<0).astype(int))-\\\n",
    "        E*T_diff[:,i]*np.array(T_diff[:,i]<0).astype(int)\n",
    "    return SD\n",
    "\n",
    "@njit\n",
    "def column_generate(time_slot,case='all'):\n",
    "    columns=[]\n",
    "    if case=='all':\n",
    "        for i in range(Number_of_user):\n",
    "            columns.append([j for j in range(np.sum(time_slot[i]<Departure_time[i])-tao,\\\n",
    "                                                      np.sum(time_slot[i]<Departure_time[i])+tao+1)])\n",
    "    elif case=='chosen':\n",
    "        for i in range(Number_of_user):\n",
    "            columns.append([np.sum(time_slot[i]<Departure_time[i])])\n",
    "    return columns\n",
    "\n",
    "\n",
    "@njit\n",
    "def V1(x):\n",
    "    return np.square(1-x/4500)*9.78"
   ]
  },
  {
   "cell_type": "code",
   "execution_count": 3,
   "metadata": {},
   "outputs": [],
   "source": [
    "# Compute the expected (texp) travel time at unchosen departure time point using fictional travelers\n",
    "\n",
    "# First, create a function to compute the expected tt at a given departure time point\n",
    "# In a nutshell, we need to compute the speeds of the MFD (time varying) while the fictinoal dirver travels the network, given its trip length. We then can obtain the travel time.\n",
    "# These speeds can change as they are function \n",
    "\n",
    "@njit\n",
    "def fic_tt(user, time_point, all_time_matrix, new_timelist, trip_len, Accumulation,Number_of_user):\n",
    "    \n",
    "    # get the fictional departure time for the fictional traveler\n",
    "    star_time=all_time_matrix[user,time_point]\n",
    "    \n",
    "    # get the list of events happening after this given departure time point to simulate the expected states\n",
    "    known_list=new_timelist[new_timelist>star_time]\n",
    "    \n",
    "    if len(known_list)==0: # if this fictional departure happens after all real travelers\n",
    "        # exit the network assuming free flow speed (9.78)\n",
    "        texp=trip_len[user]/9.78/60\n",
    "    elif len(known_list)==Number_of_user*2: # this fictional departure happens before all real travelers enter the network\n",
    "        # compute the left trip length till the first real traveler enter the network\n",
    "        texp=0\n",
    "        count=0\n",
    "        left_len=trip_len[user]-9.78*60*(known_list[0]-star_time)\n",
    "        \n",
    "        if left_len<0: # if this fictional traveler end his trip before the first real traveler enter the network\n",
    "            # exit the network assuming free flow speed (9.78)\n",
    "            texp=trip_len[user]/9.78/60\n",
    "            \n",
    "        else: # compute travel speed in each time interval between two consecutive events\n",
    "            V_list=np.array([V1(x) for x in Accumulation[Number_of_user*2-len(known_list):-1]])\n",
    "            len_piece=np.diff(known_list)*V_list*60 # trip length traveled in each time interval between two consecutive events\n",
    "            cum_len=np.cumsum(len_piece)\n",
    "            count=np.sum(cum_len<left_len)\n",
    "            texp=known_list[count+1]-star_time+(left_len-cum_len[count])/V1(Accumulation[count])/60\n",
    "    else: # it means this fictional departure happens after some real travelers have entered the network\n",
    "        texp=0\n",
    "        count=0\n",
    "        # compute the left trip length till the next closest event occurs (either a departure or arrival)\n",
    "        left_len=trip_len[user]-V1(Accumulation[Number_of_user*2-len(known_list)-1])*(known_list[0]-star_time)*60\n",
    "        if left_len<0: # if this fictional traveler end his trip before the next real event occurs\n",
    "            texp=trip_len[user]/V1(Accumulation[Number_of_user*2-len(known_list)-1])/60\n",
    "        else:\n",
    "            # travel speed in each time interval between two consecutive events\n",
    "            V_list=np.array([V1(x) for x in Accumulation[Number_of_user*2-len(known_list):-1]])\n",
    "            \n",
    "            # trip length traveled in each time interval between two consecutive events\n",
    "            len_piece=np.diff(known_list)*V_list*60\n",
    "            cum_len=np.cumsum(len_piece)\n",
    "            count=np.sum(cum_len<left_len)\n",
    "            if count==0:\n",
    "                texp=known_list[count]-star_time+(left_len-(known_list[count]-star_time)*V1(1))/9.78/60\n",
    "            elif count==len(cum_len): # this fictional traveler's is not finished even after all real travelers finish their trips\n",
    "                texp=known_list[count]-star_time+(left_len-cum_len[count-1])/9.78/60\n",
    "            else: # this fictional traveler finishes the trip before all real travelers finish their trips\n",
    "                texp=known_list[count+1]-star_time+(left_len-cum_len[count])/V1(Accumulation[Number_of_user*2-len(known_list)+count])/60\n",
    "    return texp\n",
    "\n",
    "# Then we use the following function to store the fictional tt for every possible departure times\n",
    "@njit(parallel=True)\n",
    "def T_est(all_time_matrix, new_timelist, trip_len, Accumulation, Number_of_user, tao):\n",
    "    T_estimate_array=np.zeros((Number_of_user,2*tao+1))\n",
    "    for i in prange(Number_of_user):\n",
    "        for j in prange(2*tao+1):\n",
    "            T_estimate_array[i,j]=fic_tt(i, j, all_time_matrix, new_timelist, trip_len, Accumulation,Number_of_user)\n",
    "    return T_estimate_array"
   ]
  },
  {
   "cell_type": "markdown",
   "metadata": {},
   "source": [
    "## Parameter settings"
   ]
  },
  {
   "cell_type": "code",
   "execution_count": 4,
   "metadata": {},
   "outputs": [
    {
     "data": {
      "text/plain": [
       "(array([  8.,  14.,  29.,  58.,  92., 177., 288., 381., 416., 457., 509.,\n",
       "        414., 354., 220., 130.,  87.,  38.,  18.,   8.,   2.]),\n",
       " array([ 22.89308582,  28.77357215,  34.65405848,  40.5345448 ,\n",
       "         46.41503113,  52.29551745,  58.17600378,  64.05649011,\n",
       "         69.93697643,  75.81746276,  81.69794909,  87.57843541,\n",
       "         93.45892174,  99.33940806, 105.21989439, 111.10038072,\n",
       "        116.98086704, 122.86135337, 128.74183969, 134.62232602,\n",
       "        140.50281235]),\n",
       " <a list of 20 Patch objects>)"
      ]
     },
     "execution_count": 4,
     "metadata": {},
     "output_type": "execute_result"
    },
    {
     "data": {
      "image/png": "[encoded data removed]",
      "text/plain": [
       "<Figure size 432x288 with 1 Axes>"
      ]
     },
     "metadata": {
      "needs_background": "light"
     },
     "output_type": "display_data"
    }
   ],
   "source": [
    "np.random.seed(seed=59)\n",
    "tao=30 # number of time intervals\n",
    "Number_of_user=3700\n",
    "\n",
    "# Generate the inital distributions for departure time\n",
    "Departure_time=np.random.normal(80,18,Number_of_user)\n",
    "for i in range(len(Departure_time)):\n",
    "    if Departure_time[i]<20 or Departure_time[i]>150:\n",
    "        Departure_time[i]=np.random.normal(80,18,1)\n",
    "plt.hist(Departure_time,bins=20)"
   ]
  },
  {
   "cell_type": "code",
   "execution_count": 5,
   "metadata": {},
   "outputs": [],
   "source": [
    "trip_len=np.array(np.zeros(Number_of_user))\n",
    "for i in range(Number_of_user):\n",
    "    trip_len[i]=4600+np.random.normal(0,(0.02*4600)**2)\n",
    "    while trip_len[i]<20:\n",
    "        trip_len[i]=4600+np.random.normal(0,(0.02*4600)**2)\n",
    "\n",
    "# Generate the sde and sdl\n",
    "E=np.array(np.zeros(Number_of_user)) # schedule delay early penalty\n",
    "L=np.array(np.zeros(Number_of_user)) # schedule delay late penalty\n",
    "        \n",
    "Wished_Arrival_time=Departure_time+trip_len/9.78/60 # wished arrival time\n",
    "\n",
    "for i in range(Number_of_user):\n",
    "    E[i]=0.5+np.random.normal(0.05**2,0.1**2)\n",
    "    L[i]=4+np.random.normal(0.1**2,0.4**2)\n",
    "    while E[i]<0.3 or E[i]>0.7:\n",
    "        E[i]=0.5+np.random.normal(0.05**2,0.1**2)\n",
    "    while L[i]<2.5 or L[i]>5.5:\n",
    "        L[i]=4+np.random.normal(0.1**2,0.4**2)\n",
    "\n",
    "# departure time choice set \n",
    "Dep_time_set=pd.DataFrame()\n",
    "for i in range(2*tao+1):\n",
    "    Dep_time_set['t'+str(i)]=Departure_time-tao+i"
   ]
  },
  {
   "cell_type": "code",
   "execution_count": 6,
   "metadata": {},
   "outputs": [],
   "source": [
    "params={'A': 11, 'mu': 80, 'sigma': 18}\n",
    "x=np.linspace(-10,130,500)\n",
    "\n",
    "# toll profile\n",
    "def custgauss(x,mu,sigma,A):\n",
    "    return A*np.exp(-(x-mu)**2/2/sigma**2)\n",
    "toll_profile=custgauss(x,**params)"
   ]
  },
  {
   "cell_type": "code",
   "execution_count": 7,
   "metadata": {},
   "outputs": [],
   "source": [
    "Sim_day=50\n",
    "omega=0.7 # Learning rate\n",
    "norm_list=[] # record the changes of the norm, which is the indicator of the consistency\n",
    "Acc_df=pd.DataFrame() # record the accumulation on each day\n",
    "time_label=pd.DataFrame() # time points of the events on each day\n",
    "all_time_slot=pd.DataFrame()\n",
    "cost_list=[] # generalized cost, including cost of travel time, schedule delay and credit payment\n",
    "cs_list=[]\n",
    "alpha=1.1 # value of time\n",
    "k=0.0002 # trip length scale factor\n",
    "tt=[]\n",
    "Eachday_dep=pd.DataFrame()\n",
    "Eachday_dep['d0']=Departure_time\n",
    "theta=5*10**(-1) #scale parameter\n",
    "util_rand = np.random.gumbel(-0.57721 / theta, 1.0 / theta, (Number_of_user,2*tao+1))\n",
    "ur=pd.DataFrame(util_rand,columns=('t'+str(i) for i in range(2*tao+1)))\n",
    "\n",
    "for i in range(2*tao+1):\n",
    "    all_time_slot['t'+str(i)]=Departure_time-tao+i\n",
    "\n",
    "all_time_matrix=np.array(all_time_slot)\n",
    "utility={} # record the random utility of each departure time choice on each day\n",
    "\n",
    "# choose a case to simulate\n",
    "Base_Case=False\n",
    "CP_Case=True\n",
    "if Base_Case:\n",
    "    price=np.ones(1)*0 # initial price as 0\n",
    "elif CP_Case:\n",
    "    price=np.ones(1)*1 # initial price as 1\n",
    "    \n",
    "# For CP_case, it's better to start with the equilibrium state of the base case,\n",
    "# i.e., run the base case first, store the departure time of the last day, and use it as the starting point.\n",
    "# Departure_time=np.load('Deptime.npy')"
   ]
  },
  {
   "cell_type": "markdown",
   "metadata": {},
   "source": [
    "## Main simulation"
   ]
  },
  {
   "cell_type": "code",
   "execution_count": null,
   "metadata": {},
   "outputs": [
    {
     "name": "stdout",
     "output_type": "stream",
     "text": [
      "day 0 : 69.20990896224976 410550.4654600349 359138.59123184375 1.0\n"
     ]
    }
   ],
   "source": [
    "for d in range(Sim_day):\n",
    "    start=time.time()\n",
    "    # record the output at each day\n",
    "    vehicle_information, time_list, Accumulation, Speed=within_day_process(Departure_time,trip_len,Number_of_user)\n",
    "\n",
    "    Acc_df['d'+str(d)]=Accumulation\n",
    "    time_label['d'+str(d)]=time_list.tolist()\n",
    "    vehicle_information['origin_tl']=trip_len\n",
    "\n",
    "    tt.append(vehicle_information['t_exp'])\n",
    "    \n",
    "    new_timelist=np.array(time_list)\n",
    "    \n",
    "    # compute the estimated travel time at unchosen departure time points\n",
    "    T_estimate=T_est(all_time_matrix, new_timelist, trip_len, Accumulation, Number_of_user, tao)\n",
    "    T_estimated=pd.DataFrame(T_estimate,columns=('t'+str(i) for i in range(2*tao+1)))\n",
    "\n",
    "    T_estimated_diff=pd.DataFrame()\n",
    "    for j in range(2*tao+1):\n",
    "        T_estimated_diff['t'+str(j)]=T_estimated['t'+str(j)]+all_time_slot['t'+str(j)]-Wished_Arrival_time\n",
    "    \n",
    "    # compute the deviation of between the actual (or estimated) arrival time and the wished arrival time\n",
    "    T_diff=np.array(T_estimated_diff)\n",
    "    # compute the schedule delay\n",
    "    SD=schedule_delay(T_diff)\n",
    "    \n",
    "    # compute the generalized cost and travel cost, respectively\n",
    "    c_estimated=pd.DataFrame(columns=('t'+str(i) for i in range(2*tao+1)))\n",
    "    c_cs=pd.DataFrame(columns=('t'+str(i) for i in range(2*tao+1)))\n",
    "    for j in range(2*tao+1):\n",
    "        c_estimated['t'+str(j)]=alpha*T_estimated['t'+str(j)]+SD[:,j]+\\\n",
    "        price[d]*custgauss(all_time_slot['t'+str(j)],**params)*np.array(vehicle_information['origin_tl'])*k\n",
    "\n",
    "        c_cs['t'+str(j)]=alpha*T_estimated['t'+str(j)]+SD[:,j]\n",
    "\n",
    "    # update the consumer surplus using historical information\n",
    "    if d==0:\n",
    "        c_perceived=c_cs\n",
    "    else:\n",
    "        c_perceived=omega*c_perceived+(1-omega)*c_cs\n",
    "    \n",
    "    # compute the convergence indicator: the L1 norm\n",
    "    norm_list.append(np.linalg.norm(c_perceived-c_cs,ord=1)/Number_of_user)\n",
    "\n",
    "    if Base_Case:\n",
    "        price=np.append(price,0)\n",
    "    elif CP_Case:\n",
    "        price=np.append(price,1)\n",
    "    \n",
    "    window_c_perceived=c_perceived\n",
    "    \n",
    "    columns1=[]\n",
    "    for i in range(Number_of_user):\n",
    "        columns1.append(['t'+str(np.sum(all_time_slot.iloc[i].values<Departure_time[i]))])\n",
    "    window_c_exp=rearrange(df=c_estimated,cols=columns1)\n",
    "    window_cs=rearrange(df=c_cs,cols=columns1)\n",
    "\n",
    "    cost_list.append(window_c_exp.sum()) # generalized cost: tt cost + sd cost + credit payment (or pricing payment)\n",
    "    cs_list.append(window_cs.sum()) # travel cost: tt cost + sd cost\n",
    "    \n",
    "    utility_exp=-window_c_perceived+util_rand\n",
    "    for j in range(2*tao+1):\n",
    "        utility_exp['t'+str(j)]=utility_exp['t'+str(j)]-price[d]*custgauss(all_time_slot['t'+str(j)],**params)*np.array(vehicle_information['origin_tl'])*k\n",
    "    Departure_time=np.diag(Dep_time_set[utility_exp.idxmax(axis=1)])\n",
    "    utility['d'+str(d)]=np.diag(ur[utility_exp.idxmax(axis=1)])\n",
    "    \n",
    "    Eachday_dep['d'+str(d+1)]=Departure_time\n",
    "    end = time.time()\n",
    "    print('day',d,':',end-start,cost_list[d][0],cs_list[d][0],price[d])"
   ]
  },
  {
   "cell_type": "markdown",
   "metadata": {},
   "source": [
    "## Output"
   ]
  },
  {
   "cell_type": "markdown",
   "metadata": {},
   "source": [
    "### Computation of generalized cost, travel cost, consumer surplus, social welfare and random utility"
   ]
  },
  {
   "cell_type": "code",
   "execution_count": null,
   "metadata": {},
   "outputs": [],
   "source": [
    "gc=np.zeros(Sim_day) # generalized cost\n",
    "tc=np.zeros(Sim_day) # travel cost\n",
    "for i in range(Sim_day):\n",
    "    gc[i]=cost_list[i][0]\n",
    "    tc[i]=cs_list[i][0]\n",
    "    \n",
    "csu=np.zeros(Sim_day) # consumer surplus\n",
    "sw=np.zeros(Sim_day) # social welfare\n",
    "for i in range(Sim_day):\n",
    "    csu[i]=-gc[i]+np.sum(utility['d'+str(i)])\n",
    "    sw[i]=-tc[i]+np.sum(utility['d'+str(i)])\n",
    "    \n",
    "ttt=np.zeros(Sim_day) # travel time\n",
    "for i in range(Sim_day):\n",
    "    ttt[i]=sum(tt[i])"
   ]
  },
  {
   "cell_type": "code",
   "execution_count": null,
   "metadata": {},
   "outputs": [],
   "source": [
    "print('ttc mean:',np.mean(ttt[Sim_day-10:]/Number_of_user))\n",
    "print('ttc std:',np.std(ttt[Sim_day-10:]/Number_of_user))\n",
    "print('sd mean:',np.mean(tc[Sim_day-10:]/Number_of_user-ttt[Sim_day-10:]/Number_of_user))\n",
    "print('sd std:',np.std(tc[Sim_day-10:]/Number_of_user-ttt[Sim_day-10:]/Number_of_user))\n",
    "print('ru mean:',np.mean(sw[Sim_day-10:]+tc[Sim_day-10:])/Number_of_user)\n",
    "print('ru std:',np.std((sw[Sim_day-10:]+tc[Sim_day-10:])/Number_of_user))\n",
    "print('cs mean:',np.mean(csu[Sim_day-10:]/Number_of_user))\n",
    "print('cs std:',np.std(csu[Sim_day-10:]/Number_of_user))\n",
    "print('sw mean:',np.mean(sw[Sim_day-10:]/Number_of_user))\n",
    "print('sw std:',np.std(sw[Sim_day-10:]/Number_of_user))"
   ]
  },
  {
   "cell_type": "markdown",
   "metadata": {},
   "source": [
    "### Visualization"
   ]
  },
  {
   "cell_type": "markdown",
   "metadata": {},
   "source": [
    "#### Evolution of inconsistency"
   ]
  },
  {
   "cell_type": "code",
   "execution_count": null,
   "metadata": {},
   "outputs": [],
   "source": [
    "plt.plot(range(1,Sim_day),norm_list[1:],color='red')\n",
    "plt.xlabel('Days')\n",
    "plt.ylabel('$|C_d-c_d|_1$/$N$ [DKK]')"
   ]
  },
  {
   "cell_type": "markdown",
   "metadata": {},
   "source": [
    "#### Evolution of consumer surplus"
   ]
  },
  {
   "cell_type": "code",
   "execution_count": null,
   "metadata": {},
   "outputs": [],
   "source": [
    "plt.plot(range(0,Sim_day),csu[0:]/Number_of_user,color='red')\n",
    "ax2.set_xlabel('Days')\n",
    "ax2.set_ylabel('Average consumer surplus [DKK]')"
   ]
  },
  {
   "cell_type": "markdown",
   "metadata": {},
   "source": [
    "#### Evolution of social welfare"
   ]
  },
  {
   "cell_type": "code",
   "execution_count": null,
   "metadata": {},
   "outputs": [],
   "source": [
    "plt.plot(range(0,Sim_day),sw[0:]/Number_of_user,color='red')\n",
    "plt.xlabel('Day')\n",
    "plt.ylabel('$W_{TCS}$ [DKK]')"
   ]
  },
  {
   "cell_type": "markdown",
   "metadata": {},
   "source": [
    "#### Evolution of accumulation"
   ]
  },
  {
   "cell_type": "code",
   "execution_count": null,
   "metadata": {},
   "outputs": [],
   "source": [
    "x=np.linspace(0,180,500) # ploting scale\n",
    "toll_profile=custgauss(x,**params)\n",
    "fig, ax1 = plt.subplots()\n",
    "ax2 = ax1.twinx()\n",
    "# a4,=ax2.plot(x,toll_profile,linestyle='--',color='gray') # uncommented when ploting the toll profile together\n",
    "a1,=ax1.plot(time_label['d0'],Acc_df['d0'], color='red')\n",
    "# a2,=ax1.plot(time_label['d10'],Acc_df['d10'], color='orange') # uncommented when ploting accumulation curve of another day\n",
    "a3,=ax1.plot(time_label['d35'],Acc_df['d35'], color='green')\n",
    "a5,=ax1.plot(time_label['d49'],Acc_df['d49'], color='blue')\n",
    "\n",
    "# plt.legend([a1,a3,a5,a4], ['day 0','day 35','day 49','Toll profile'])\n",
    "plt.legend([a1,a3,a5,a4], ['day 0','day 35','day 49'])\n",
    "ax1.set_xlabel('Time [min]')\n",
    "ax1.set_ylabel('Accumulation [traveler]')\n",
    "# ax2.set_ylabel('Credit charge',color='gray')"
   ]
  }
 ],
 "metadata": {
  "kernelspec": {
   "display_name": "Python 3",
   "language": "python",
   "name": "python3"
  },
  "language_info": {
   "codemirror_mode": {
    "name": "ipython",
    "version": 3
   },
   "file_extension": ".py",
   "mimetype": "text/x-python",
   "name": "python",
   "nbconvert_exporter": "python",
   "pygments_lexer": "ipython3",
   "version": "3.7.6"
  }
 },
 "nbformat": 4,
 "nbformat_minor": 4
}
