{
 "cells": [
  {
   "cell_type": "code",
   "execution_count": 1,
   "source": [
    "import matplotlib.pyplot as plt\r\n",
    "import numpy as np\r\n",
    "import pandas as pd\r\n",
    "import time\r\n",
    "import warnings\r\n",
    "warnings.filterwarnings(\"ignore\")\r\n",
    "from numba import njit, prange"
   ],
   "outputs": [],
   "metadata": {}
  },
  {
   "cell_type": "markdown",
   "source": [
    "## Function definition"
   ],
   "metadata": {}
  },
  {
   "cell_type": "code",
   "execution_count": 2,
   "source": [
    "# Speed function\r\n",
    "def V(x): \r\n",
    "    if isinstance(x,list):\r\n",
    "        return [np.square(1-i/4500)*9.78 for i in x]\r\n",
    "    else:\r\n",
    "        return np.square(1-x/4500)*9.78\r\n",
    "\r\n",
    "# Event-based simulation, reffering to Algorithm 1 in the paper\r\n",
    "def within_day_process(Departure_time,trip_len,Number_of_user):\r\n",
    "    # Step 1\r\n",
    "    n=0 # Number of vehicle (accumulation)\r\n",
    "    j=0 # index of event\r\n",
    "    t=[] # event time\r\n",
    "    vehicle_index=[]\r\n",
    "    Accumulation=[]\r\n",
    "    Speed=[]\r\n",
    "    \r\n",
    "    # Predicted arrival time\r\n",
    "    Arrival_time=Departure_time+trip_len/9.78/60\r\n",
    "    \r\n",
    "    # Step 2\r\n",
    "    # Define event list of departures\r\n",
    "    \r\n",
    "    Event_list1_array=np.zeros((Number_of_user,4))\r\n",
    "    Event_list1_array[:,0]=np.arange(Number_of_user) # vehicle index\r\n",
    "    Event_list1_array[:,1]=Departure_time # time(min)\r\n",
    "    Event_list1_array[:,2]=np.ones(Number_of_user) # departure indicator: 1\r\n",
    "    Event_list1_array[:,3]=trip_len # trip length\r\n",
    "    \r\n",
    "    # Define event list of arrivals\r\n",
    "    Event_list2_array=np.zeros((Number_of_user,4))\r\n",
    "    Event_list2_array[:,0]=np.arange(Number_of_user) # vehicle index\r\n",
    "    Event_list2_array[:,1]=Arrival_time # time(min)\r\n",
    "    Event_list2_array[:,2]=np.ones(Number_of_user)*2 # arrival indicator: 2\r\n",
    "    Event_list2_array[:,3]=trip_len # trip length\r\n",
    "\r\n",
    "    # S_Event_list_array: 4 columns\r\n",
    "    # vehicle_index  time(min)  event_indicator  trip_len\r\n",
    "\r\n",
    "    # Concatenate these two event lists\r\n",
    "    S_Event_list_array=np.concatenate((Event_list1_array, Event_list2_array), axis=0)\r\n",
    "    \r\n",
    "    # Sort the list by time in ascending order\r\n",
    "    S_Event_list_array=S_Event_list_array[S_Event_list_array[:, 1].argsort()]\r\n",
    "    \r\n",
    "    # get time of the first event\r\n",
    "    t.append(S_Event_list_array[0,1]) #initial time\r\n",
    "    \r\n",
    "    # create a dict to store the information of each agent\r\n",
    "    vehicle_information = {}\r\n",
    "    vehicle_information['vehicle']=np.arange(Number_of_user)\r\n",
    "    vehicle_information['trip_len(m)']=trip_len\r\n",
    "    vehicle_information['t_exp']=np.zeros(Number_of_user)\r\n",
    "    vehicle_information['account']=np.zeros(Number_of_user)\r\n",
    "    \r\n",
    "    #Step 3\r\n",
    "    # Event-based simulation\r\n",
    "    while S_Event_list_array.shape[0]>0:\r\n",
    "        j=j+1\r\n",
    "        t.append(S_Event_list_array[0,1]) # record the time of the event\r\n",
    "        if S_Event_list_array[0,2]==1:     \r\n",
    "            vehicle_index.append(int(S_Event_list_array[0,0])) # record the agent that starts the trip\r\n",
    "\r\n",
    "            # update the untraveled trip length\r\n",
    "            trip_len1=vehicle_information['trip_len(m)'].to_numpy()\r\n",
    "            trip_len1[vehicle_index[0:-1]]=trip_len1[vehicle_index[0:-1]]-V(n)*60*(t[j]-t[j-1])\r\n",
    "            vehicle_information['trip_len(m)']=trip_len1\r\n",
    "\r\n",
    "            # update the accumulation in the network\r\n",
    "            n=n+1\r\n",
    "            \r\n",
    "            # keep track of the accumulation\r\n",
    "            Accumulation.append(n)\r\n",
    "            \r\n",
    "            # update the predicted arrival time\r\n",
    "            temp=S_Event_list_array[(np.where((S_Event_list_array[:,2]==2) & (np.isin(S_Event_list_array[:,0],vehicle_index[0:-1])==True)))][:,0]\r\n",
    "            if np.size(temp)==0:\r\n",
    "                temp = np.array([])\r\n",
    "            S_Event_list_array[(np.where((S_Event_list_array[:,2]==2) & (np.isin(S_Event_list_array[:,0],vehicle_index[0:-1])==True))),1]=\\\r\n",
    "            t[j]+vehicle_information['trip_len(m)'][temp.astype(int)]/V(n)/60\r\n",
    "\r\n",
    "        else: #arrival\r\n",
    "            # update the trip length\r\n",
    "            trip_len1=vehicle_information['trip_len(m)'].values\r\n",
    "            trip_len1[vehicle_index]=trip_len1[vehicle_index]-V(n)*60*(t[j]-t[j-1])\r\n",
    "            vehicle_information['trip_len(m)']=trip_len1\r\n",
    "\r\n",
    "            # update the accumulation in the network\r\n",
    "            n=n-1\r\n",
    "            \r\n",
    "            # keep track of the accumulation\r\n",
    "            Accumulation.append(n)\r\n",
    "\r\n",
    "            # update t_exp\r\n",
    "            vehicle_information['t_exp'][int(S_Event_list_array[0,0])]=S_Event_list_array[0,1]-Departure_time[int(S_Event_list_array[0,0])]\r\n",
    "\r\n",
    "            # remove the agent that finishes the trip\r\n",
    "            vehicle_index.remove(int(S_Event_list_array[0,0]))\r\n",
    "        \r\n",
    "            # Update the predicted arrival time\r\n",
    "            temp=S_Event_list_array[(np.where((S_Event_list_array[:,2]==2) & (np.isin(S_Event_list_array[:,0],vehicle_index)==True)))][:,0]\r\n",
    "            if np.size(temp)==0:\r\n",
    "                temp = np.array([])\r\n",
    "            S_Event_list_array[(np.where((S_Event_list_array[:,2]==2) & (np.isin(S_Event_list_array[:,0],vehicle_index)==True))),1]=\\\r\n",
    "            t[j]+vehicle_information['trip_len(m)'][temp.astype(int)]/V(n)/60\r\n",
    "\r\n",
    "        # remove event from the list\r\n",
    "        S_Event_list_array = np.delete(S_Event_list_array, (0), axis=0)    \r\n",
    "        S_Event_list_array=S_Event_list_array[S_Event_list_array[:, 1].argsort()]\r\n",
    "        # update speed with Speed.function\r\n",
    "        Speed.append(V(n))\r\n",
    "    vehicle_information['t_dep']=Event_list1_array[:,1]\r\n",
    "    vehicle_information['t_arr']=vehicle_information['t_dep']+vehicle_information['t_exp']\r\n",
    "    time_list=np.concatenate((vehicle_information['t_dep'], vehicle_information['t_arr']), axis=0)\r\n",
    "    time_list=time_list=np.sort(time_list,axis=None)\r\n",
    "    return vehicle_information, time_list, Accumulation, Speed\r\n",
    "\r\n",
    "\r\n",
    "def rearrange(df, cols):\r\n",
    "    \r\n",
    "    all_values=[]\r\n",
    "    for idx,i in enumerate(cols):\r\n",
    "        \r\n",
    "        vals=df[i].T[idx].values\r\n",
    "        all_values.append(vals)\r\n",
    "    \r\n",
    "    if len(cols[0])>1:\r\n",
    "        return pd.DataFrame(data=np.vstack(all_values),columns=('t'+str(i) for i in range(2*tao+1)))\r\n",
    "    else:\r\n",
    "        return pd.DataFrame(data=np.vstack(all_values))\r\n",
    "    \r\n",
    "\r\n",
    "def schedule_delay(T_diff):\r\n",
    "    SD=np.empty((Number_of_user,2*tao+1))\r\n",
    "    for i in range(2*tao+1):\r\n",
    "        SD[:,i]=L*T_diff[:,i]*(1-np.array(T_diff[:,i]<0).astype(int))-\\\r\n",
    "        E*T_diff[:,i]*np.array(T_diff[:,i]<0).astype(int)\r\n",
    "    return SD\r\n",
    "\r\n",
    "@njit\r\n",
    "def column_generate(time_slot,case='all'):\r\n",
    "    columns=[]\r\n",
    "    if case=='all':\r\n",
    "        for i in range(Number_of_user):\r\n",
    "            columns.append([j for j in range(np.sum(time_slot[i]<Departure_time[i])-tao,\\\r\n",
    "                                                      np.sum(time_slot[i]<Departure_time[i])+tao+1)])\r\n",
    "    elif case=='chosen':\r\n",
    "        for i in range(Number_of_user):\r\n",
    "            columns.append([np.sum(time_slot[i]<Departure_time[i])])\r\n",
    "    return columns\r\n",
    "\r\n",
    "\r\n",
    "@njit\r\n",
    "def V1(x):\r\n",
    "    return np.square(1-x/4500)*9.78"
   ],
   "outputs": [],
   "metadata": {}
  },
  {
   "cell_type": "code",
   "execution_count": 3,
   "source": [
    "# Compute the expected (texp) travel time at unchosen departure time point using fictional travelers\r\n",
    "\r\n",
    "# First, create a function to compute the expected tt at a given departure time point\r\n",
    "# In a nutshell, we need to compute the speeds of the MFD (time varying) while the fictinoal dirver travels the network, given its trip length. We then can obtain the travel time.\r\n",
    "# These speeds can change as they are function \r\n",
    "\r\n",
    "@njit\r\n",
    "def fic_tt(user, time_point, all_time_matrix, new_timelist, trip_len, Accumulation,Number_of_user):\r\n",
    "    \r\n",
    "    # get the fictional departure time for the fictional traveler\r\n",
    "    star_time=all_time_matrix[user,time_point]\r\n",
    "    \r\n",
    "    # get the list of events happening after this given departure time point to simulate the expected states\r\n",
    "    known_list=new_timelist[new_timelist>star_time]\r\n",
    "    \r\n",
    "    if len(known_list)==0: # if this fictional departure happens after all real travelers\r\n",
    "        # exit the network assuming free flow speed (9.78)\r\n",
    "        texp=trip_len[user]/9.78/60\r\n",
    "    elif len(known_list)==Number_of_user*2: # this fictional departure happens before all real travelers enter the network\r\n",
    "        # compute the left trip length till the first real traveler enter the network\r\n",
    "        texp=0\r\n",
    "        count=0\r\n",
    "        left_len=trip_len[user]-9.78*60*(known_list[0]-star_time)\r\n",
    "        \r\n",
    "        if left_len<0: # if this fictional traveler end his trip before the first real traveler enter the network\r\n",
    "            # exit the network assuming free flow speed (9.78)\r\n",
    "            texp=trip_len[user]/9.78/60\r\n",
    "            \r\n",
    "        else: # compute travel speed in each time interval between two consecutive events\r\n",
    "            V_list=np.array([V1(x) for x in Accumulation[Number_of_user*2-len(known_list):-1]])\r\n",
    "            len_piece=np.diff(known_list)*V_list*60 # trip length traveled in each time interval between two consecutive events\r\n",
    "            cum_len=np.cumsum(len_piece)\r\n",
    "            count=np.sum(cum_len<left_len)\r\n",
    "            texp=known_list[count+1]-star_time+(left_len-cum_len[count])/V1(Accumulation[count])/60\r\n",
    "    else: # it means this fictional departure happens after some real travelers have entered the network\r\n",
    "        texp=0\r\n",
    "        count=0\r\n",
    "        # compute the left trip length till the next closest event occurs (either a departure or arrival)\r\n",
    "        left_len=trip_len[user]-V1(Accumulation[Number_of_user*2-len(known_list)-1])*(known_list[0]-star_time)*60\r\n",
    "        if left_len<0: # if this fictional traveler end his trip before the next real event occurs\r\n",
    "            texp=trip_len[user]/V1(Accumulation[Number_of_user*2-len(known_list)-1])/60\r\n",
    "        else:\r\n",
    "            # travel speed in each time interval between two consecutive events\r\n",
    "            V_list=np.array([V1(x) for x in Accumulation[Number_of_user*2-len(known_list):-1]])\r\n",
    "            \r\n",
    "            # trip length traveled in each time interval between two consecutive events\r\n",
    "            len_piece=np.diff(known_list)*V_list*60\r\n",
    "            cum_len=np.cumsum(len_piece)\r\n",
    "            count=np.sum(cum_len<left_len)\r\n",
    "            if count==0:\r\n",
    "                texp=known_list[count]-star_time+(left_len-(known_list[count]-star_time)*V1(1))/9.78/60\r\n",
    "            elif count==len(cum_len): # this fictional traveler's is not finished even after all real travelers finish their trips\r\n",
    "                texp=known_list[count]-star_time+(left_len-cum_len[count-1])/9.78/60\r\n",
    "            else: # this fictional traveler finishes the trip before all real travelers finish their trips\r\n",
    "                texp=known_list[count+1]-star_time+(left_len-cum_len[count])/V1(Accumulation[Number_of_user*2-len(known_list)+count])/60\r\n",
    "    return texp\r\n",
    "\r\n",
    "# Then we use the following function to store the fictional tt for every possible departure times\r\n",
    "@njit(parallel=True)\r\n",
    "def T_est(all_time_matrix, new_timelist, trip_len, Accumulation, Number_of_user, tao):\r\n",
    "    T_estimate_array=np.zeros((Number_of_user,2*tao+1))\r\n",
    "    for i in prange(Number_of_user):\r\n",
    "        for j in prange(2*tao+1):\r\n",
    "            T_estimate_array[i,j]=fic_tt(i, j, all_time_matrix, new_timelist, trip_len, Accumulation,Number_of_user)\r\n",
    "    return T_estimate_array"
   ],
   "outputs": [],
   "metadata": {}
  },
  {
   "cell_type": "markdown",
   "source": [
    "## Parameter settings"
   ],
   "metadata": {}
  },
  {
   "cell_type": "code",
   "execution_count": 4,
   "source": [
    "np.random.seed(seed=59)\r\n",
    "tao=30 # number of time intervals\r\n",
    "Number_of_user=3700\r\n",
    "\r\n",
    "# Generate the inital distributions for departure time\r\n",
    "Departure_time=np.random.normal(80,18,Number_of_user)\r\n",
    "for i in range(len(Departure_time)):\r\n",
    "    if Departure_time[i]<20 or Departure_time[i]>150:\r\n",
    "        Departure_time[i]=np.random.normal(80,18,1)\r\n",
    "plt.hist(Departure_time,bins=20)"
   ],
   "outputs": [
    {
     "output_type": "execute_result",
     "data": {
      "text/plain": [
       "(array([  8.,  14.,  29.,  58.,  92., 177., 288., 381., 416., 457., 509.,\n",
       "        414., 354., 220., 130.,  87.,  38.,  18.,   8.,   2.]),\n",
       " array([ 22.89308582,  28.77357215,  34.65405848,  40.5345448 ,\n",
       "         46.41503113,  52.29551745,  58.17600378,  64.05649011,\n",
       "         69.93697643,  75.81746276,  81.69794909,  87.57843541,\n",
       "         93.45892174,  99.33940806, 105.21989439, 111.10038072,\n",
       "        116.98086704, 122.86135337, 128.74183969, 134.62232602,\n",
       "        140.50281235]),\n",
       " <a list of 20 Patch objects>)"
      ]
     },
     "metadata": {},
     "execution_count": 4
    },
    {
     "output_type": "display_data",
     "data": {
      "image/png": "[encoded data removed]",
      "text/plain": [
       "<Figure size 432x288 with 1 Axes>"
      ]
     },
     "metadata": {
      "needs_background": "light"
     }
    }
   ],
   "metadata": {}
  },
  {
   "cell_type": "code",
   "execution_count": 5,
   "source": [
    "trip_len=np.array(np.zeros(Number_of_user))\r\n",
    "for i in range(Number_of_user):\r\n",
    "    trip_len[i]=4600+np.random.normal(0,(0.02*4600)**2)\r\n",
    "    while trip_len[i]<20:\r\n",
    "        trip_len[i]=4600+np.random.normal(0,(0.02*4600)**2)\r\n",
    "\r\n",
    "# Generate the sde and sdl\r\n",
    "E=np.array(np.zeros(Number_of_user)) # schedule delay early penalty\r\n",
    "L=np.array(np.zeros(Number_of_user)) # schedule delay late penalty\r\n",
    "        \r\n",
    "Wished_Arrival_time=Departure_time+trip_len/9.78/60 # wished arrival time\r\n",
    "\r\n",
    "for i in range(Number_of_user):\r\n",
    "    E[i]=0.5+np.random.normal(0.05**2,0.1**2)\r\n",
    "    L[i]=4+np.random.normal(0.1**2,0.4**2)\r\n",
    "    while E[i]<0.3 or E[i]>0.7:\r\n",
    "        E[i]=0.5+np.random.normal(0.05**2,0.1**2)\r\n",
    "    while L[i]<2.5 or L[i]>5.5:\r\n",
    "        L[i]=4+np.random.normal(0.1**2,0.4**2)\r\n",
    "\r\n",
    "# departure time choice set \r\n",
    "Dep_time_set=pd.DataFrame()\r\n",
    "for i in range(2*tao+1):\r\n",
    "    Dep_time_set['t'+str(i)]=Departure_time-tao+i"
   ],
   "outputs": [],
   "metadata": {}
  },
  {
   "cell_type": "code",
   "execution_count": 6,
   "source": [
    "params={'A': 11, 'mu': 80, 'sigma': 18}\r\n",
    "x=np.linspace(-10,130,500)\r\n",
    "\r\n",
    "# toll profile\r\n",
    "def custgauss(x,mu,sigma,A):\r\n",
    "    return A*np.exp(-(x-mu)**2/2/sigma**2)\r\n",
    "toll_profile=custgauss(x,**params)"
   ],
   "outputs": [],
   "metadata": {}
  },
  {
   "cell_type": "code",
   "execution_count": 7,
   "source": [
    "Sim_day=50\r\n",
    "omega=0.7 # Learning rate\r\n",
    "norm_list=[] # record the changes of the norm, which is the indicator of the consistency\r\n",
    "Acc_df=pd.DataFrame() # record the accumulation on each day\r\n",
    "time_label=pd.DataFrame() # time points of the events on each day\r\n",
    "all_time_slot=pd.DataFrame()\r\n",
    "cost_list=[] # generalized cost, including cost of travel time, schedule delay and credit payment\r\n",
    "cs_list=[]\r\n",
    "alpha=1.1 # value of time\r\n",
    "k=0.0002 # trip length scale factor\r\n",
    "tt=[]\r\n",
    "Eachday_dep=pd.DataFrame()\r\n",
    "Eachday_dep['d0']=Departure_time\r\n",
    "theta=5*10**(-1) #scale parameter\r\n",
    "util_rand = np.random.gumbel(-0.57721 / theta, 1.0 / theta, (Number_of_user,2*tao+1))\r\n",
    "ur=pd.DataFrame(util_rand,columns=('t'+str(i) for i in range(2*tao+1)))\r\n",
    "\r\n",
    "for i in range(2*tao+1):\r\n",
    "    all_time_slot['t'+str(i)]=Departure_time-tao+i\r\n",
    "\r\n",
    "all_time_matrix=np.array(all_time_slot)\r\n",
    "utility={} # record the random utility of each departure time choice on each day\r\n",
    "\r\n",
    "# choose a case to simulate\r\n",
    "Base_Case=False\r\n",
    "CP_Case=True\r\n",
    "if Base_Case:\r\n",
    "    price=np.ones(1)*0 # initial price as 0\r\n",
    "elif CP_Case:\r\n",
    "    price=np.ones(1)*1 # initial price as 1\r\n",
    "    \r\n",
    "# For CP_case, it's better to start with the equilibrium state of the base case,\r\n",
    "# i.e., run the base case first, store the departure time of the last day, and use it as the starting point.\r\n",
    "# Departure_time=np.load('Deptime.npy')"
   ],
   "outputs": [],
   "metadata": {}
  },
  {
   "cell_type": "markdown",
   "source": [
    "## Main simulation"
   ],
   "metadata": {}
  },
  {
   "cell_type": "code",
   "execution_count": null,
   "source": [
    "for d in range(Sim_day):\r\n",
    "    start=time.time()\r\n",
    "    # record the output at each day\r\n",
    "    vehicle_information, time_list, Accumulation, Speed=within_day_process(Departure_time,trip_len,Number_of_user)\r\n",
    "\r\n",
    "    Acc_df['d'+str(d)]=Accumulation\r\n",
    "    time_label['d'+str(d)]=time_list\r\n",
    "    vehicle_information['origin_tl']=trip_len\r\n",
    "\r\n",
    "    tt.append(vehicle_information['t_exp'])\r\n",
    "    \r\n",
    "    new_timelist=time_list\r\n",
    "    \r\n",
    "    # compute the estimated travel time at unchosen departure time points\r\n",
    "    T_estimate=T_est(all_time_matrix, new_timelist, trip_len, Accumulation, Number_of_user, tao)\r\n",
    "    T_estimated=pd.DataFrame(T_estimate,columns=('t'+str(i) for i in range(2*tao+1)))\r\n",
    "\r\n",
    "    T_estimated_diff=pd.DataFrame()\r\n",
    "    for j in range(2*tao+1):\r\n",
    "        T_estimated_diff['t'+str(j)]=T_estimated['t'+str(j)]+all_time_slot['t'+str(j)]-Wished_Arrival_time\r\n",
    "    \r\n",
    "    # compute the deviation of between the actual (or estimated) arrival time and the wished arrival time\r\n",
    "    T_diff=np.array(T_estimated_diff)\r\n",
    "    # compute the schedule delay\r\n",
    "    SD=schedule_delay(T_diff)\r\n",
    "    \r\n",
    "    # compute the generalized cost and travel cost, respectively\r\n",
    "    c_estimated=pd.DataFrame(columns=('t'+str(i) for i in range(2*tao+1)))\r\n",
    "    c_cs=pd.DataFrame(columns=('t'+str(i) for i in range(2*tao+1)))\r\n",
    "    for j in range(2*tao+1):\r\n",
    "        c_estimated['t'+str(j)]=alpha*T_estimated['t'+str(j)]+SD[:,j]+\\\r\n",
    "        price[d]*custgauss(all_time_slot['t'+str(j)],**params)*np.array(vehicle_information['origin_tl'])*k\r\n",
    "\r\n",
    "        c_cs['t'+str(j)]=alpha*T_estimated['t'+str(j)]+SD[:,j]\r\n",
    "\r\n",
    "    # update the consumer surplus using historical information\r\n",
    "    if d==0:\r\n",
    "        c_perceived=c_cs\r\n",
    "    else:\r\n",
    "        c_perceived=omega*c_perceived+(1-omega)*c_cs\r\n",
    "    \r\n",
    "    # compute the convergence indicator: the L1 norm\r\n",
    "    norm_list.append(np.linalg.norm(c_perceived-c_cs,ord=1)/Number_of_user)\r\n",
    "\r\n",
    "    if Base_Case:\r\n",
    "        price=np.append(price,0)\r\n",
    "    elif CP_Case:\r\n",
    "        price=np.append(price,1)\r\n",
    "    \r\n",
    "    window_c_perceived=c_perceived\r\n",
    "    \r\n",
    "    columns1=[]\r\n",
    "    for i in range(Number_of_user):\r\n",
    "        columns1.append(['t'+str(np.sum(all_time_slot.iloc[i].values<Departure_time[i]))])\r\n",
    "    window_c_exp=rearrange(df=c_estimated,cols=columns1)\r\n",
    "    window_cs=rearrange(df=c_cs,cols=columns1)\r\n",
    "\r\n",
    "    cost_list.append(window_c_exp.sum()) # generalized cost: tt cost + sd cost + credit payment (or pricing payment)\r\n",
    "    cs_list.append(window_cs.sum()) # travel cost: tt cost + sd cost\r\n",
    "    \r\n",
    "    utility_exp=-window_c_perceived+util_rand\r\n",
    "    for j in range(2*tao+1):\r\n",
    "        utility_exp['t'+str(j)]=utility_exp['t'+str(j)]-price[d]*custgauss(all_time_slot['t'+str(j)],**params)*np.array(vehicle_information['origin_tl'])*k\r\n",
    "    Departure_time=np.diag(Dep_time_set[utility_exp.idxmax(axis=1)])\r\n",
    "    utility['d'+str(d)]=np.diag(ur[utility_exp.idxmax(axis=1)])\r\n",
    "    \r\n",
    "    Eachday_dep['d'+str(d+1)]=Departure_time\r\n",
    "    end = time.time()\r\n",
    "    print('day',d,':',end-start,cost_list[d][0],cs_list[d][0],price[d])"
   ],
   "outputs": [
    {
     "output_type": "stream",
     "name": "stdout",
     "text": [
      "day 0 : 69.20990896224976 410550.4654600349 359138.59123184375 1.0\n"
     ]
    }
   ],
   "metadata": {}
  },
  {
   "cell_type": "markdown",
   "source": [
    "## Output"
   ],
   "metadata": {}
  },
  {
   "cell_type": "markdown",
   "source": [
    "### Computation of generalized cost, travel cost, consumer surplus, social welfare and random utility"
   ],
   "metadata": {}
  },
  {
   "cell_type": "code",
   "execution_count": null,
   "source": [
    "gc=np.zeros(Sim_day) # generalized cost\n",
    "tc=np.zeros(Sim_day) # travel cost\n",
    "for i in range(Sim_day):\n",
    "    gc[i]=cost_list[i][0]\n",
    "    tc[i]=cs_list[i][0]\n",
    "    \n",
    "csu=np.zeros(Sim_day) # consumer surplus\n",
    "sw=np.zeros(Sim_day) # social welfare\n",
    "for i in range(Sim_day):\n",
    "    csu[i]=-gc[i]+np.sum(utility['d'+str(i)])\n",
    "    sw[i]=-tc[i]+np.sum(utility['d'+str(i)])\n",
    "    \n",
    "ttt=np.zeros(Sim_day) # travel time\n",
    "for i in range(Sim_day):\n",
    "    ttt[i]=sum(tt[i])"
   ],
   "outputs": [],
   "metadata": {}
  },
  {
   "cell_type": "code",
   "execution_count": null,
   "source": [
    "print('ttc mean:',np.mean(ttt[Sim_day-10:]/Number_of_user))\n",
    "print('ttc std:',np.std(ttt[Sim_day-10:]/Number_of_user))\n",
    "print('sd mean:',np.mean(tc[Sim_day-10:]/Number_of_user-ttt[Sim_day-10:]/Number_of_user))\n",
    "print('sd std:',np.std(tc[Sim_day-10:]/Number_of_user-ttt[Sim_day-10:]/Number_of_user))\n",
    "print('ru mean:',np.mean(sw[Sim_day-10:]+tc[Sim_day-10:])/Number_of_user)\n",
    "print('ru std:',np.std((sw[Sim_day-10:]+tc[Sim_day-10:])/Number_of_user))\n",
    "print('cs mean:',np.mean(csu[Sim_day-10:]/Number_of_user))\n",
    "print('cs std:',np.std(csu[Sim_day-10:]/Number_of_user))\n",
    "print('sw mean:',np.mean(sw[Sim_day-10:]/Number_of_user))\n",
    "print('sw std:',np.std(sw[Sim_day-10:]/Number_of_user))"
   ],
   "outputs": [],
   "metadata": {}
  },
  {
   "cell_type": "markdown",
   "source": [
    "### Visualization"
   ],
   "metadata": {}
  },
  {
   "cell_type": "markdown",
   "source": [
    "#### Evolution of inconsistency"
   ],
   "metadata": {}
  },
  {
   "cell_type": "code",
   "execution_count": null,
   "source": [
    "plt.plot(range(1,Sim_day),norm_list[1:],color='red')\n",
    "plt.xlabel('Days')\n",
    "plt.ylabel('$|C_d-c_d|_1$/$N$ [DKK]')"
   ],
   "outputs": [],
   "metadata": {}
  },
  {
   "cell_type": "markdown",
   "source": [
    "#### Evolution of consumer surplus"
   ],
   "metadata": {}
  },
  {
   "cell_type": "code",
   "execution_count": null,
   "source": [
    "plt.plot(range(0,Sim_day),csu[0:]/Number_of_user,color='red')\n",
    "ax2.set_xlabel('Days')\n",
    "ax2.set_ylabel('Average consumer surplus [DKK]')"
   ],
   "outputs": [],
   "metadata": {}
  },
  {
   "cell_type": "markdown",
   "source": [
    "#### Evolution of social welfare"
   ],
   "metadata": {}
  },
  {
   "cell_type": "code",
   "execution_count": null,
   "source": [
    "plt.plot(range(0,Sim_day),sw[0:]/Number_of_user,color='red')\n",
    "plt.xlabel('Day')\n",
    "plt.ylabel('$W_{TCS}$ [DKK]')"
   ],
   "outputs": [],
   "metadata": {}
  },
  {
   "cell_type": "markdown",
   "source": [
    "#### Evolution of accumulation"
   ],
   "metadata": {}
  },
  {
   "cell_type": "code",
   "execution_count": null,
   "source": [
    "x=np.linspace(0,180,500) # ploting scale\n",
    "toll_profile=custgauss(x,**params)\n",
    "fig, ax1 = plt.subplots()\n",
    "ax2 = ax1.twinx()\n",
    "# a4,=ax2.plot(x,toll_profile,linestyle='--',color='gray') # uncommented when ploting the toll profile together\n",
    "a1,=ax1.plot(time_label['d0'],Acc_df['d0'], color='red')\n",
    "# a2,=ax1.plot(time_label['d10'],Acc_df['d10'], color='orange') # uncommented when ploting accumulation curve of another day\n",
    "a3,=ax1.plot(time_label['d35'],Acc_df['d35'], color='green')\n",
    "a5,=ax1.plot(time_label['d49'],Acc_df['d49'], color='blue')\n",
    "\n",
    "# plt.legend([a1,a3,a5,a4], ['day 0','day 35','day 49','Toll profile'])\n",
    "plt.legend([a1,a3,a5,a4], ['day 0','day 35','day 49'])\n",
    "ax1.set_xlabel('Time [min]')\n",
    "ax1.set_ylabel('Accumulation [traveler]')\n",
    "# ax2.set_ylabel('Credit charge',color='gray')"
   ],
   "outputs": [],
   "metadata": {}
  }
 ],
 "metadata": {
  "kernelspec": {
   "name": "python3",
   "display_name": "Python 3.7.6 64-bit ('base': conda)"
  },
  "language_info": {
   "codemirror_mode": {
    "name": "ipython",
    "version": 3
   },
   "file_extension": ".py",
   "mimetype": "text/x-python",
   "name": "python",
   "nbconvert_exporter": "python",
   "pygments_lexer": "ipython3",
   "version": "3.7.6"
  },
  "interpreter": {
   "hash": "a8f61be024eba58adef938c9aa1e29e02cb3dece83a5348b1a2dafd16a070453"
  }
 },
 "nbformat": 4,
 "nbformat_minor": 4
}